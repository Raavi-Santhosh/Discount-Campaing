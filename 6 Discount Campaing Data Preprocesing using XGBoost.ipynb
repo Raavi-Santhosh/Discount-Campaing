{
 "cells": [
  {
   "cell_type": "markdown",
   "metadata": {},
   "source": [
    "Importing basic libraries for data processing"
   ]
  },
  {
   "cell_type": "code",
   "execution_count": 2,
   "metadata": {},
   "outputs": [],
   "source": [
    "import numpy as np\n",
    "import pandas as pd\n",
    "from sklearn import metrics"
   ]
  },
  {
   "cell_type": "markdown",
   "metadata": {},
   "source": [
    "Loading the dataset"
   ]
  },
  {
   "cell_type": "code",
   "execution_count": 3,
   "metadata": {},
   "outputs": [
    {
     "data": {
      "text/html": [
       "<div>\n",
       "<style scoped>\n",
       "    .dataframe tbody tr th:only-of-type {\n",
       "        vertical-align: middle;\n",
       "    }\n",
       "\n",
       "    .dataframe tbody tr th {\n",
       "        vertical-align: top;\n",
       "    }\n",
       "\n",
       "    .dataframe thead th {\n",
       "        text-align: right;\n",
       "    }\n",
       "</style>\n",
       "<table border=\"1\" class=\"dataframe\">\n",
       "  <thead>\n",
       "    <tr style=\"text-align: right;\">\n",
       "      <th></th>\n",
       "      <th>REF_NO</th>\n",
       "      <th>children</th>\n",
       "      <th>age_band</th>\n",
       "      <th>status</th>\n",
       "      <th>occupation</th>\n",
       "      <th>occupation_partner</th>\n",
       "      <th>home_status</th>\n",
       "      <th>family_income</th>\n",
       "      <th>self_employed</th>\n",
       "      <th>self_employed_partner</th>\n",
       "      <th>...</th>\n",
       "      <th>Investment Tax Saving Bond</th>\n",
       "      <th>Home Loan</th>\n",
       "      <th>Online Purchase Amount</th>\n",
       "      <th>Revenue Grid</th>\n",
       "      <th>gender</th>\n",
       "      <th>region</th>\n",
       "      <th>Investment in Commudity</th>\n",
       "      <th>Investment in Equity</th>\n",
       "      <th>Investment in Derivative</th>\n",
       "      <th>Portfolio Balance</th>\n",
       "    </tr>\n",
       "  </thead>\n",
       "  <tbody>\n",
       "    <tr>\n",
       "      <td>0</td>\n",
       "      <td>1</td>\n",
       "      <td>Zero</td>\n",
       "      <td>51-55</td>\n",
       "      <td>Partner</td>\n",
       "      <td>Manual Worker</td>\n",
       "      <td>Secretarial/Admin</td>\n",
       "      <td>Own Home</td>\n",
       "      <td>&lt;17,500, &gt;=15,000</td>\n",
       "      <td>No</td>\n",
       "      <td>No</td>\n",
       "      <td>...</td>\n",
       "      <td>19.99</td>\n",
       "      <td>0.00</td>\n",
       "      <td>0.00</td>\n",
       "      <td>1</td>\n",
       "      <td>Female</td>\n",
       "      <td>Wales</td>\n",
       "      <td>74.67</td>\n",
       "      <td>18.66</td>\n",
       "      <td>32.32</td>\n",
       "      <td>89.43</td>\n",
       "    </tr>\n",
       "    <tr>\n",
       "      <td>1</td>\n",
       "      <td>2</td>\n",
       "      <td>Zero</td>\n",
       "      <td>55-60</td>\n",
       "      <td>Single/Never Married</td>\n",
       "      <td>Retired</td>\n",
       "      <td>Retired</td>\n",
       "      <td>Own Home</td>\n",
       "      <td>&lt;27,500, &gt;=25,000</td>\n",
       "      <td>No</td>\n",
       "      <td>No</td>\n",
       "      <td>...</td>\n",
       "      <td>0.00</td>\n",
       "      <td>0.00</td>\n",
       "      <td>0.00</td>\n",
       "      <td>2</td>\n",
       "      <td>Female</td>\n",
       "      <td>North West</td>\n",
       "      <td>20.19</td>\n",
       "      <td>0.00</td>\n",
       "      <td>4.33</td>\n",
       "      <td>22.78</td>\n",
       "    </tr>\n",
       "    <tr>\n",
       "      <td>2</td>\n",
       "      <td>3</td>\n",
       "      <td>Zero</td>\n",
       "      <td>26-30</td>\n",
       "      <td>Single/Never Married</td>\n",
       "      <td>Professional</td>\n",
       "      <td>Other</td>\n",
       "      <td>Own Home</td>\n",
       "      <td>&lt;30,000, &gt;=27,500</td>\n",
       "      <td>Yes</td>\n",
       "      <td>No</td>\n",
       "      <td>...</td>\n",
       "      <td>0.00</td>\n",
       "      <td>3.49</td>\n",
       "      <td>0.00</td>\n",
       "      <td>2</td>\n",
       "      <td>Male</td>\n",
       "      <td>North</td>\n",
       "      <td>98.06</td>\n",
       "      <td>31.07</td>\n",
       "      <td>80.96</td>\n",
       "      <td>171.78</td>\n",
       "    </tr>\n",
       "    <tr>\n",
       "      <td>3</td>\n",
       "      <td>5</td>\n",
       "      <td>Zero</td>\n",
       "      <td>18-21</td>\n",
       "      <td>Single/Never Married</td>\n",
       "      <td>Professional</td>\n",
       "      <td>Manual Worker</td>\n",
       "      <td>Own Home</td>\n",
       "      <td>&lt;15,000, &gt;=12,500</td>\n",
       "      <td>No</td>\n",
       "      <td>No</td>\n",
       "      <td>...</td>\n",
       "      <td>0.00</td>\n",
       "      <td>0.00</td>\n",
       "      <td>0.00</td>\n",
       "      <td>2</td>\n",
       "      <td>Female</td>\n",
       "      <td>West Midlands</td>\n",
       "      <td>4.10</td>\n",
       "      <td>14.15</td>\n",
       "      <td>17.57</td>\n",
       "      <td>-41.70</td>\n",
       "    </tr>\n",
       "    <tr>\n",
       "      <td>4</td>\n",
       "      <td>6</td>\n",
       "      <td>Zero</td>\n",
       "      <td>45-50</td>\n",
       "      <td>Partner</td>\n",
       "      <td>Business Manager</td>\n",
       "      <td>Unknown</td>\n",
       "      <td>Own Home</td>\n",
       "      <td>&lt;30,000, &gt;=27,500</td>\n",
       "      <td>No</td>\n",
       "      <td>No</td>\n",
       "      <td>...</td>\n",
       "      <td>0.00</td>\n",
       "      <td>45.91</td>\n",
       "      <td>25.98</td>\n",
       "      <td>2</td>\n",
       "      <td>Female</td>\n",
       "      <td>Scotland</td>\n",
       "      <td>70.16</td>\n",
       "      <td>55.86</td>\n",
       "      <td>80.44</td>\n",
       "      <td>235.02</td>\n",
       "    </tr>\n",
       "  </tbody>\n",
       "</table>\n",
       "<p>5 rows × 32 columns</p>\n",
       "</div>"
      ],
      "text/plain": [
       "   REF_NO children age_band                status        occupation  \\\n",
       "0       1     Zero    51-55               Partner     Manual Worker   \n",
       "1       2     Zero    55-60  Single/Never Married           Retired   \n",
       "2       3     Zero    26-30  Single/Never Married      Professional   \n",
       "3       5     Zero    18-21  Single/Never Married      Professional   \n",
       "4       6     Zero    45-50               Partner  Business Manager   \n",
       "\n",
       "  occupation_partner home_status      family_income self_employed  \\\n",
       "0  Secretarial/Admin    Own Home  <17,500, >=15,000            No   \n",
       "1            Retired    Own Home  <27,500, >=25,000            No   \n",
       "2              Other    Own Home  <30,000, >=27,500           Yes   \n",
       "3      Manual Worker    Own Home  <15,000, >=12,500            No   \n",
       "4            Unknown    Own Home  <30,000, >=27,500            No   \n",
       "\n",
       "  self_employed_partner  ...  Investment Tax Saving Bond Home Loan  \\\n",
       "0                    No  ...                       19.99      0.00   \n",
       "1                    No  ...                        0.00      0.00   \n",
       "2                    No  ...                        0.00      3.49   \n",
       "3                    No  ...                        0.00      0.00   \n",
       "4                    No  ...                        0.00     45.91   \n",
       "\n",
       "  Online Purchase Amount Revenue Grid  gender         region  \\\n",
       "0                   0.00            1  Female          Wales   \n",
       "1                   0.00            2  Female     North West   \n",
       "2                   0.00            2    Male          North   \n",
       "3                   0.00            2  Female  West Midlands   \n",
       "4                  25.98            2  Female       Scotland   \n",
       "\n",
       "   Investment in Commudity  Investment in Equity  Investment in Derivative  \\\n",
       "0                    74.67                 18.66                     32.32   \n",
       "1                    20.19                  0.00                      4.33   \n",
       "2                    98.06                 31.07                     80.96   \n",
       "3                     4.10                 14.15                     17.57   \n",
       "4                    70.16                 55.86                     80.44   \n",
       "\n",
       "   Portfolio Balance  \n",
       "0              89.43  \n",
       "1              22.78  \n",
       "2             171.78  \n",
       "3             -41.70  \n",
       "4             235.02  \n",
       "\n",
       "[5 rows x 32 columns]"
      ]
     },
     "execution_count": 3,
     "metadata": {},
     "output_type": "execute_result"
    }
   ],
   "source": [
    "data = pd.read_csv('./Dataset/Existing Base.csv')\n",
    "data.head()"
   ]
  },
  {
   "cell_type": "code",
   "execution_count": 4,
   "metadata": {},
   "outputs": [
    {
     "data": {
      "text/plain": [
       "(10155, 32)"
      ]
     },
     "execution_count": 4,
     "metadata": {},
     "output_type": "execute_result"
    }
   ],
   "source": [
    "data.shape"
   ]
  },
  {
   "cell_type": "code",
   "execution_count": 5,
   "metadata": {},
   "outputs": [
    {
     "name": "stdout",
     "output_type": "stream",
     "text": [
      "<class 'pandas.core.frame.DataFrame'>\n",
      "RangeIndex: 10155 entries, 0 to 10154\n",
      "Data columns (total 32 columns):\n",
      "REF_NO                             10155 non-null int64\n",
      "children                           10155 non-null object\n",
      "age_band                           10155 non-null object\n",
      "status                             10155 non-null object\n",
      "occupation                         10155 non-null object\n",
      "occupation_partner                 10155 non-null object\n",
      "home_status                        10155 non-null object\n",
      "family_income                      10155 non-null object\n",
      "self_employed                      10155 non-null object\n",
      "self_employed_partner              10155 non-null object\n",
      "year_last_moved                    10155 non-null int64\n",
      "TVarea                             10155 non-null object\n",
      "post_code                          10155 non-null object\n",
      "post_area                          10155 non-null object\n",
      "Average Credit Card Transaction    10155 non-null float64\n",
      "Balance Transfer                   10155 non-null float64\n",
      "Term Deposit                       10155 non-null float64\n",
      "Life Insurance                     10155 non-null float64\n",
      "Medical Insurance                  10155 non-null float64\n",
      "Average A/C Balance                10155 non-null float64\n",
      "Personal Loan                      10155 non-null float64\n",
      "Investment in Mutual Fund          10155 non-null float64\n",
      "Investment Tax Saving Bond         10155 non-null float64\n",
      "Home Loan                          10155 non-null float64\n",
      "Online Purchase Amount             10155 non-null float64\n",
      "Revenue Grid                       10155 non-null int64\n",
      "gender                             10155 non-null object\n",
      "region                             10155 non-null object\n",
      "Investment in Commudity            10155 non-null float64\n",
      "Investment in Equity               10155 non-null float64\n",
      "Investment in Derivative           10155 non-null float64\n",
      "Portfolio Balance                  10155 non-null float64\n",
      "dtypes: float64(15), int64(3), object(14)\n",
      "memory usage: 2.5+ MB\n"
     ]
    }
   ],
   "source": [
    "data.info()"
   ]
  },
  {
   "cell_type": "code",
   "execution_count": 6,
   "metadata": {},
   "outputs": [
    {
     "data": {
      "text/plain": [
       "14"
      ]
     },
     "execution_count": 6,
     "metadata": {},
     "output_type": "execute_result"
    }
   ],
   "source": [
    "len(data.select_dtypes(['object']).columns)"
   ]
  },
  {
   "cell_type": "markdown",
   "metadata": {},
   "source": [
    "We are having 32 columns out of them 14 are categorical. Lets look each variable one by one"
   ]
  },
  {
   "cell_type": "markdown",
   "metadata": {},
   "source": [
    "First we are having Ref.No we can drop that variable so keep that aside as of now and lets look into 2nd feature which is *children*."
   ]
  },
  {
   "cell_type": "code",
   "execution_count": 7,
   "metadata": {},
   "outputs": [
    {
     "data": {
      "text/plain": [
       "Zero    6208\n",
       "1       1848\n",
       "2       1607\n",
       "3        473\n",
       "4+        19\n",
       "Name: children, dtype: int64"
      ]
     },
     "execution_count": 7,
     "metadata": {},
     "output_type": "execute_result"
    }
   ],
   "source": [
    "data['children'].value_counts()"
   ]
  },
  {
   "cell_type": "code",
   "execution_count": 8,
   "metadata": {},
   "outputs": [
    {
     "data": {
      "text/plain": [
       "dtype('int64')"
      ]
     },
     "execution_count": 8,
     "metadata": {},
     "output_type": "execute_result"
    }
   ],
   "source": [
    "data.loc[data['children'] == 'Zero','children'] = '0'\n",
    "data.loc[data['children'] == '4+','children'] = '4'\n",
    "data['children'] = pd.to_numeric(data['children'])\n",
    "data['children'].dtype"
   ]
  },
  {
   "cell_type": "code",
   "execution_count": 9,
   "metadata": {},
   "outputs": [
    {
     "data": {
      "text/plain": [
       "0    6208\n",
       "1    1848\n",
       "2    1607\n",
       "3     473\n",
       "4      19\n",
       "Name: children, dtype: int64"
      ]
     },
     "execution_count": 9,
     "metadata": {},
     "output_type": "execute_result"
    }
   ],
   "source": [
    "data['children'].value_counts()"
   ]
  },
  {
   "cell_type": "markdown",
   "metadata": {},
   "source": [
    "Our Target variable is Revenue.Grid so converting value 2 to 0 and 1 to 1"
   ]
  },
  {
   "cell_type": "code",
   "execution_count": 10,
   "metadata": {},
   "outputs": [
    {
     "data": {
      "text/plain": [
       "2    9069\n",
       "1    1086\n",
       "Name: Revenue Grid, dtype: int64"
      ]
     },
     "execution_count": 10,
     "metadata": {},
     "output_type": "execute_result"
    }
   ],
   "source": [
    "data['Revenue Grid'].value_counts()"
   ]
  },
  {
   "cell_type": "code",
   "execution_count": 11,
   "metadata": {},
   "outputs": [
    {
     "data": {
      "text/plain": [
       "<bound method IndexOpsMixin.value_counts of 0        1\n",
       "1        0\n",
       "2        0\n",
       "3        0\n",
       "4        0\n",
       "        ..\n",
       "10150    0\n",
       "10151    0\n",
       "10152    0\n",
       "10153    0\n",
       "10154    0\n",
       "Name: Revenue Grid, Length: 10155, dtype: int64>"
      ]
     },
     "execution_count": 11,
     "metadata": {},
     "output_type": "execute_result"
    }
   ],
   "source": [
    "data['Revenue Grid'] = np.where(data['Revenue Grid'] == 2,0,1)\n",
    "data['Revenue Grid'].value_counts"
   ]
  },
  {
   "cell_type": "markdown",
   "metadata": {},
   "source": [
    "Now lets move to age_band variable"
   ]
  },
  {
   "cell_type": "code",
   "execution_count": 12,
   "metadata": {},
   "outputs": [
    {
     "data": {
      "text/plain": [
       "45-50      1359\n",
       "36-40      1134\n",
       "41-45      1112\n",
       "31-35      1061\n",
       "51-55      1052\n",
       "55-60      1047\n",
       "26-30       927\n",
       "61-65       881\n",
       "65-70       598\n",
       "22-25       456\n",
       "71+         410\n",
       "18-21        63\n",
       "Unknown      55\n",
       "Name: age_band, dtype: int64"
      ]
     },
     "execution_count": 12,
     "metadata": {},
     "output_type": "execute_result"
    }
   ],
   "source": [
    "data['age_band'].value_counts()"
   ]
  },
  {
   "cell_type": "markdown",
   "metadata": {},
   "source": [
    "considering the age as a categorical variable, so instead of taking mean value just creating dummies based on the response on target variable"
   ]
  },
  {
   "cell_type": "code",
   "execution_count": 13,
   "metadata": {},
   "outputs": [
    {
     "data": {
      "text/plain": [
       "age_band\n",
       "18-21      0.17\n",
       "22-25      0.11\n",
       "26-30      0.11\n",
       "31-35      0.11\n",
       "36-40      0.13\n",
       "41-45      0.11\n",
       "45-50      0.10\n",
       "51-55      0.10\n",
       "55-60      0.11\n",
       "61-65      0.09\n",
       "65-70      0.10\n",
       "71+        0.10\n",
       "Unknown    0.05\n",
       "Name: Revenue Grid, dtype: float64"
      ]
     },
     "execution_count": 13,
     "metadata": {},
     "output_type": "execute_result"
    }
   ],
   "source": [
    "round(data.groupby('age_band')['Revenue Grid'].mean(),2)"
   ]
  },
  {
   "cell_type": "code",
   "execution_count": 14,
   "metadata": {},
   "outputs": [
    {
     "data": {
      "text/html": [
       "<div>\n",
       "<style scoped>\n",
       "    .dataframe tbody tr th:only-of-type {\n",
       "        vertical-align: middle;\n",
       "    }\n",
       "\n",
       "    .dataframe tbody tr th {\n",
       "        vertical-align: top;\n",
       "    }\n",
       "\n",
       "    .dataframe thead th {\n",
       "        text-align: right;\n",
       "    }\n",
       "</style>\n",
       "<table border=\"1\" class=\"dataframe\">\n",
       "  <thead>\n",
       "    <tr style=\"text-align: right;\">\n",
       "      <th></th>\n",
       "      <th>Unknown</th>\n",
       "      <th>ab_10</th>\n",
       "      <th>ab_11</th>\n",
       "      <th>ab_13</th>\n",
       "      <th>ab_17</th>\n",
       "      <th>ab_9</th>\n",
       "    </tr>\n",
       "  </thead>\n",
       "  <tbody>\n",
       "    <tr>\n",
       "      <td>0</td>\n",
       "      <td>0</td>\n",
       "      <td>1</td>\n",
       "      <td>0</td>\n",
       "      <td>0</td>\n",
       "      <td>0</td>\n",
       "      <td>0</td>\n",
       "    </tr>\n",
       "    <tr>\n",
       "      <td>1</td>\n",
       "      <td>0</td>\n",
       "      <td>0</td>\n",
       "      <td>1</td>\n",
       "      <td>0</td>\n",
       "      <td>0</td>\n",
       "      <td>0</td>\n",
       "    </tr>\n",
       "    <tr>\n",
       "      <td>2</td>\n",
       "      <td>0</td>\n",
       "      <td>0</td>\n",
       "      <td>1</td>\n",
       "      <td>0</td>\n",
       "      <td>0</td>\n",
       "      <td>0</td>\n",
       "    </tr>\n",
       "    <tr>\n",
       "      <td>3</td>\n",
       "      <td>0</td>\n",
       "      <td>0</td>\n",
       "      <td>0</td>\n",
       "      <td>0</td>\n",
       "      <td>1</td>\n",
       "      <td>0</td>\n",
       "    </tr>\n",
       "    <tr>\n",
       "      <td>4</td>\n",
       "      <td>0</td>\n",
       "      <td>1</td>\n",
       "      <td>0</td>\n",
       "      <td>0</td>\n",
       "      <td>0</td>\n",
       "      <td>0</td>\n",
       "    </tr>\n",
       "  </tbody>\n",
       "</table>\n",
       "</div>"
      ],
      "text/plain": [
       "   Unknown  ab_10  ab_11  ab_13  ab_17  ab_9\n",
       "0        0      1      0      0      0     0\n",
       "1        0      0      1      0      0     0\n",
       "2        0      0      1      0      0     0\n",
       "3        0      0      0      0      1     0\n",
       "4        0      1      0      0      0     0"
      ]
     },
     "execution_count": 14,
     "metadata": {},
     "output_type": "execute_result"
    }
   ],
   "source": [
    "for i in range(len(data)):\n",
    "    if data[\"age_band\"][i] in [\"71+\",\"65-70\",\"51-55\",\"45-50\"]:\n",
    "        data.loc[i,\"age_band\"]=\"ab_10\"\n",
    "    if data[\"age_band\"][i] in [\"55-60\",\"41-45\",\"31-35\",\"22-25\",\"26-30\"]:\n",
    "        data.loc[i,\"age_band\"]=\"ab_11\"\n",
    "    if data[\"age_band\"][i]==\"36-40\":\n",
    "        data.loc[i,\"age_band\"]=\"ab_13\"\n",
    "    if data[\"age_band\"][i]==\"18-21\":\n",
    "        data.loc[i,\"age_band\"]=\"ab_17\"\n",
    "    if data[\"age_band\"][i]==\"61-65\":\n",
    "        data.loc[i,\"age_band\"]=\"ab_9\"\n",
    "ab_dummies=pd.get_dummies(data[\"age_band\"])\n",
    "ab_dummies.head()"
   ]
  },
  {
   "cell_type": "code",
   "execution_count": 15,
   "metadata": {},
   "outputs": [],
   "source": [
    "ab_dummies.drop('Unknown',axis='columns',inplace=True)"
   ]
  },
  {
   "cell_type": "code",
   "execution_count": 16,
   "metadata": {},
   "outputs": [],
   "source": [
    "data = pd.concat((data,ab_dummies),axis='columns')"
   ]
  },
  {
   "cell_type": "code",
   "execution_count": 17,
   "metadata": {},
   "outputs": [],
   "source": [
    "data.drop('age_band',axis='columns',inplace=True)"
   ]
  },
  {
   "cell_type": "markdown",
   "metadata": {},
   "source": [
    "We have just created dummies age_band by grouping them. Now go for status feature"
   ]
  },
  {
   "cell_type": "code",
   "execution_count": 18,
   "metadata": {},
   "outputs": [
    {
     "data": {
      "text/plain": [
       "Partner                 7709\n",
       "Single/Never Married    1101\n",
       "Divorced/Separated       679\n",
       "Widowed                  618\n",
       "Unknown                   48\n",
       "Name: status, dtype: int64"
      ]
     },
     "execution_count": 18,
     "metadata": {},
     "output_type": "execute_result"
    }
   ],
   "source": [
    "data['status'].value_counts()"
   ]
  },
  {
   "cell_type": "markdown",
   "metadata": {},
   "source": [
    "For this status feature also lets create dummies by not creating dummies for widowed and unknown"
   ]
  },
  {
   "cell_type": "code",
   "execution_count": 19,
   "metadata": {},
   "outputs": [
    {
     "data": {
      "text/html": [
       "<div>\n",
       "<style scoped>\n",
       "    .dataframe tbody tr th:only-of-type {\n",
       "        vertical-align: middle;\n",
       "    }\n",
       "\n",
       "    .dataframe tbody tr th {\n",
       "        vertical-align: top;\n",
       "    }\n",
       "\n",
       "    .dataframe thead th {\n",
       "        text-align: right;\n",
       "    }\n",
       "</style>\n",
       "<table border=\"1\" class=\"dataframe\">\n",
       "  <thead>\n",
       "    <tr style=\"text-align: right;\">\n",
       "      <th></th>\n",
       "      <th>REF_NO</th>\n",
       "      <th>children</th>\n",
       "      <th>occupation</th>\n",
       "      <th>occupation_partner</th>\n",
       "      <th>home_status</th>\n",
       "      <th>family_income</th>\n",
       "      <th>self_employed</th>\n",
       "      <th>self_employed_partner</th>\n",
       "      <th>year_last_moved</th>\n",
       "      <th>TVarea</th>\n",
       "      <th>...</th>\n",
       "      <th>Investment in Derivative</th>\n",
       "      <th>Portfolio Balance</th>\n",
       "      <th>ab_10</th>\n",
       "      <th>ab_11</th>\n",
       "      <th>ab_13</th>\n",
       "      <th>ab_17</th>\n",
       "      <th>ab_9</th>\n",
       "      <th>status_partner</th>\n",
       "      <th>statuss_S/NM</th>\n",
       "      <th>status_div</th>\n",
       "    </tr>\n",
       "  </thead>\n",
       "  <tbody>\n",
       "    <tr>\n",
       "      <td>0</td>\n",
       "      <td>1</td>\n",
       "      <td>0</td>\n",
       "      <td>Manual Worker</td>\n",
       "      <td>Secretarial/Admin</td>\n",
       "      <td>Own Home</td>\n",
       "      <td>&lt;17,500, &gt;=15,000</td>\n",
       "      <td>No</td>\n",
       "      <td>No</td>\n",
       "      <td>1972</td>\n",
       "      <td>HTV</td>\n",
       "      <td>...</td>\n",
       "      <td>32.32</td>\n",
       "      <td>89.43</td>\n",
       "      <td>1</td>\n",
       "      <td>0</td>\n",
       "      <td>0</td>\n",
       "      <td>0</td>\n",
       "      <td>0</td>\n",
       "      <td>1</td>\n",
       "      <td>0</td>\n",
       "      <td>0</td>\n",
       "    </tr>\n",
       "    <tr>\n",
       "      <td>1</td>\n",
       "      <td>2</td>\n",
       "      <td>0</td>\n",
       "      <td>Retired</td>\n",
       "      <td>Retired</td>\n",
       "      <td>Own Home</td>\n",
       "      <td>&lt;27,500, &gt;=25,000</td>\n",
       "      <td>No</td>\n",
       "      <td>No</td>\n",
       "      <td>1998</td>\n",
       "      <td>Granada</td>\n",
       "      <td>...</td>\n",
       "      <td>4.33</td>\n",
       "      <td>22.78</td>\n",
       "      <td>0</td>\n",
       "      <td>1</td>\n",
       "      <td>0</td>\n",
       "      <td>0</td>\n",
       "      <td>0</td>\n",
       "      <td>0</td>\n",
       "      <td>1</td>\n",
       "      <td>0</td>\n",
       "    </tr>\n",
       "    <tr>\n",
       "      <td>2</td>\n",
       "      <td>3</td>\n",
       "      <td>0</td>\n",
       "      <td>Professional</td>\n",
       "      <td>Other</td>\n",
       "      <td>Own Home</td>\n",
       "      <td>&lt;30,000, &gt;=27,500</td>\n",
       "      <td>Yes</td>\n",
       "      <td>No</td>\n",
       "      <td>1996</td>\n",
       "      <td>Tyne Tees</td>\n",
       "      <td>...</td>\n",
       "      <td>80.96</td>\n",
       "      <td>171.78</td>\n",
       "      <td>0</td>\n",
       "      <td>1</td>\n",
       "      <td>0</td>\n",
       "      <td>0</td>\n",
       "      <td>0</td>\n",
       "      <td>0</td>\n",
       "      <td>1</td>\n",
       "      <td>0</td>\n",
       "    </tr>\n",
       "    <tr>\n",
       "      <td>3</td>\n",
       "      <td>5</td>\n",
       "      <td>0</td>\n",
       "      <td>Professional</td>\n",
       "      <td>Manual Worker</td>\n",
       "      <td>Own Home</td>\n",
       "      <td>&lt;15,000, &gt;=12,500</td>\n",
       "      <td>No</td>\n",
       "      <td>No</td>\n",
       "      <td>1997</td>\n",
       "      <td>Central</td>\n",
       "      <td>...</td>\n",
       "      <td>17.57</td>\n",
       "      <td>-41.70</td>\n",
       "      <td>0</td>\n",
       "      <td>0</td>\n",
       "      <td>0</td>\n",
       "      <td>1</td>\n",
       "      <td>0</td>\n",
       "      <td>0</td>\n",
       "      <td>1</td>\n",
       "      <td>0</td>\n",
       "    </tr>\n",
       "    <tr>\n",
       "      <td>4</td>\n",
       "      <td>6</td>\n",
       "      <td>0</td>\n",
       "      <td>Business Manager</td>\n",
       "      <td>Unknown</td>\n",
       "      <td>Own Home</td>\n",
       "      <td>&lt;30,000, &gt;=27,500</td>\n",
       "      <td>No</td>\n",
       "      <td>No</td>\n",
       "      <td>1995</td>\n",
       "      <td>Scottish TV</td>\n",
       "      <td>...</td>\n",
       "      <td>80.44</td>\n",
       "      <td>235.02</td>\n",
       "      <td>1</td>\n",
       "      <td>0</td>\n",
       "      <td>0</td>\n",
       "      <td>0</td>\n",
       "      <td>0</td>\n",
       "      <td>1</td>\n",
       "      <td>0</td>\n",
       "      <td>0</td>\n",
       "    </tr>\n",
       "    <tr>\n",
       "      <td>...</td>\n",
       "      <td>...</td>\n",
       "      <td>...</td>\n",
       "      <td>...</td>\n",
       "      <td>...</td>\n",
       "      <td>...</td>\n",
       "      <td>...</td>\n",
       "      <td>...</td>\n",
       "      <td>...</td>\n",
       "      <td>...</td>\n",
       "      <td>...</td>\n",
       "      <td>...</td>\n",
       "      <td>...</td>\n",
       "      <td>...</td>\n",
       "      <td>...</td>\n",
       "      <td>...</td>\n",
       "      <td>...</td>\n",
       "      <td>...</td>\n",
       "      <td>...</td>\n",
       "      <td>...</td>\n",
       "      <td>...</td>\n",
       "      <td>...</td>\n",
       "    </tr>\n",
       "    <tr>\n",
       "      <td>10150</td>\n",
       "      <td>11512</td>\n",
       "      <td>1</td>\n",
       "      <td>Secretarial/Admin</td>\n",
       "      <td>Manual Worker</td>\n",
       "      <td>Own Home</td>\n",
       "      <td>&lt;30,000, &gt;=27,500</td>\n",
       "      <td>No</td>\n",
       "      <td>No</td>\n",
       "      <td>1972</td>\n",
       "      <td>Carlton</td>\n",
       "      <td>...</td>\n",
       "      <td>9.57</td>\n",
       "      <td>10.23</td>\n",
       "      <td>1</td>\n",
       "      <td>0</td>\n",
       "      <td>0</td>\n",
       "      <td>0</td>\n",
       "      <td>0</td>\n",
       "      <td>1</td>\n",
       "      <td>0</td>\n",
       "      <td>0</td>\n",
       "    </tr>\n",
       "    <tr>\n",
       "      <td>10151</td>\n",
       "      <td>11513</td>\n",
       "      <td>0</td>\n",
       "      <td>Manual Worker</td>\n",
       "      <td>Manual Worker</td>\n",
       "      <td>Rent from Council/HA</td>\n",
       "      <td>&lt;25,000, &gt;=22,500</td>\n",
       "      <td>No</td>\n",
       "      <td>No</td>\n",
       "      <td>1988</td>\n",
       "      <td>Meridian</td>\n",
       "      <td>...</td>\n",
       "      <td>36.40</td>\n",
       "      <td>102.62</td>\n",
       "      <td>1</td>\n",
       "      <td>0</td>\n",
       "      <td>0</td>\n",
       "      <td>0</td>\n",
       "      <td>0</td>\n",
       "      <td>1</td>\n",
       "      <td>0</td>\n",
       "      <td>0</td>\n",
       "    </tr>\n",
       "    <tr>\n",
       "      <td>10152</td>\n",
       "      <td>11514</td>\n",
       "      <td>2</td>\n",
       "      <td>Housewife</td>\n",
       "      <td>Professional</td>\n",
       "      <td>Own Home</td>\n",
       "      <td>&gt;=35,000</td>\n",
       "      <td>No</td>\n",
       "      <td>No</td>\n",
       "      <td>1992</td>\n",
       "      <td>Central</td>\n",
       "      <td>...</td>\n",
       "      <td>14.07</td>\n",
       "      <td>76.18</td>\n",
       "      <td>0</td>\n",
       "      <td>1</td>\n",
       "      <td>0</td>\n",
       "      <td>0</td>\n",
       "      <td>0</td>\n",
       "      <td>1</td>\n",
       "      <td>0</td>\n",
       "      <td>0</td>\n",
       "    </tr>\n",
       "    <tr>\n",
       "      <td>10153</td>\n",
       "      <td>11516</td>\n",
       "      <td>0</td>\n",
       "      <td>Other</td>\n",
       "      <td>Manual Worker</td>\n",
       "      <td>Own Home</td>\n",
       "      <td>&lt;10,000, &gt;= 8,000</td>\n",
       "      <td>No</td>\n",
       "      <td>Yes</td>\n",
       "      <td>1970</td>\n",
       "      <td>Carlton</td>\n",
       "      <td>...</td>\n",
       "      <td>1.66</td>\n",
       "      <td>4.79</td>\n",
       "      <td>1</td>\n",
       "      <td>0</td>\n",
       "      <td>0</td>\n",
       "      <td>0</td>\n",
       "      <td>0</td>\n",
       "      <td>1</td>\n",
       "      <td>0</td>\n",
       "      <td>0</td>\n",
       "    </tr>\n",
       "    <tr>\n",
       "      <td>10154</td>\n",
       "      <td>11518</td>\n",
       "      <td>1</td>\n",
       "      <td>Unknown</td>\n",
       "      <td>Housewife</td>\n",
       "      <td>Own Home</td>\n",
       "      <td>&lt;27,500, &gt;=25,000</td>\n",
       "      <td>No</td>\n",
       "      <td>No</td>\n",
       "      <td>1996</td>\n",
       "      <td>HTV</td>\n",
       "      <td>...</td>\n",
       "      <td>99.35</td>\n",
       "      <td>227.12</td>\n",
       "      <td>0</td>\n",
       "      <td>1</td>\n",
       "      <td>0</td>\n",
       "      <td>0</td>\n",
       "      <td>0</td>\n",
       "      <td>1</td>\n",
       "      <td>0</td>\n",
       "      <td>0</td>\n",
       "    </tr>\n",
       "  </tbody>\n",
       "</table>\n",
       "<p>10155 rows × 38 columns</p>\n",
       "</div>"
      ],
      "text/plain": [
       "       REF_NO  children         occupation occupation_partner  \\\n",
       "0           1         0      Manual Worker  Secretarial/Admin   \n",
       "1           2         0            Retired            Retired   \n",
       "2           3         0       Professional              Other   \n",
       "3           5         0       Professional      Manual Worker   \n",
       "4           6         0   Business Manager            Unknown   \n",
       "...       ...       ...                ...                ...   \n",
       "10150   11512         1  Secretarial/Admin      Manual Worker   \n",
       "10151   11513         0      Manual Worker      Manual Worker   \n",
       "10152   11514         2          Housewife       Professional   \n",
       "10153   11516         0              Other      Manual Worker   \n",
       "10154   11518         1            Unknown          Housewife   \n",
       "\n",
       "                home_status      family_income self_employed  \\\n",
       "0                  Own Home  <17,500, >=15,000            No   \n",
       "1                  Own Home  <27,500, >=25,000            No   \n",
       "2                  Own Home  <30,000, >=27,500           Yes   \n",
       "3                  Own Home  <15,000, >=12,500            No   \n",
       "4                  Own Home  <30,000, >=27,500            No   \n",
       "...                     ...                ...           ...   \n",
       "10150              Own Home  <30,000, >=27,500            No   \n",
       "10151  Rent from Council/HA  <25,000, >=22,500            No   \n",
       "10152              Own Home           >=35,000            No   \n",
       "10153              Own Home  <10,000, >= 8,000            No   \n",
       "10154              Own Home  <27,500, >=25,000            No   \n",
       "\n",
       "      self_employed_partner  year_last_moved       TVarea  ...  \\\n",
       "0                        No             1972          HTV  ...   \n",
       "1                        No             1998      Granada  ...   \n",
       "2                        No             1996    Tyne Tees  ...   \n",
       "3                        No             1997      Central  ...   \n",
       "4                        No             1995  Scottish TV  ...   \n",
       "...                     ...              ...          ...  ...   \n",
       "10150                    No             1972      Carlton  ...   \n",
       "10151                    No             1988     Meridian  ...   \n",
       "10152                    No             1992      Central  ...   \n",
       "10153                   Yes             1970      Carlton  ...   \n",
       "10154                    No             1996          HTV  ...   \n",
       "\n",
       "      Investment in Derivative Portfolio Balance  ab_10  ab_11  ab_13  ab_17  \\\n",
       "0                        32.32             89.43      1      0      0      0   \n",
       "1                         4.33             22.78      0      1      0      0   \n",
       "2                        80.96            171.78      0      1      0      0   \n",
       "3                        17.57            -41.70      0      0      0      1   \n",
       "4                        80.44            235.02      1      0      0      0   \n",
       "...                        ...               ...    ...    ...    ...    ...   \n",
       "10150                     9.57             10.23      1      0      0      0   \n",
       "10151                    36.40            102.62      1      0      0      0   \n",
       "10152                    14.07             76.18      0      1      0      0   \n",
       "10153                     1.66              4.79      1      0      0      0   \n",
       "10154                    99.35            227.12      0      1      0      0   \n",
       "\n",
       "       ab_9  status_partner  statuss_S/NM  status_div  \n",
       "0         0               1             0           0  \n",
       "1         0               0             1           0  \n",
       "2         0               0             1           0  \n",
       "3         0               0             1           0  \n",
       "4         0               1             0           0  \n",
       "...     ...             ...           ...         ...  \n",
       "10150     0               1             0           0  \n",
       "10151     0               1             0           0  \n",
       "10152     0               1             0           0  \n",
       "10153     0               1             0           0  \n",
       "10154     0               1             0           0  \n",
       "\n",
       "[10155 rows x 38 columns]"
      ]
     },
     "execution_count": 19,
     "metadata": {},
     "output_type": "execute_result"
    }
   ],
   "source": [
    "data['status_partner'] = np.where(data['status'] == 'Partner',1,0)\n",
    "data['statuss_S/NM'] = np.where(data['status'] == 'Single/Never Married',1,0)\n",
    "data['status_div'] = np.where(data['status'] == 'Divorced/Separated',1,0)\n",
    "data.drop('status',axis='columns')"
   ]
  },
  {
   "cell_type": "markdown",
   "metadata": {},
   "source": [
    "For occupation and occupation partner we also create dummies by group with the response rate"
   ]
  },
  {
   "cell_type": "code",
   "execution_count": 20,
   "metadata": {},
   "outputs": [
    {
     "data": {
      "text/plain": [
       "Professional         2449\n",
       "Retired              2206\n",
       "Secretarial/Admin    1797\n",
       "Housewife            1255\n",
       "Business Manager      732\n",
       "Unknown               567\n",
       "Manual Worker         556\n",
       "Other                 537\n",
       "Student                56\n",
       "Name: occupation, dtype: int64"
      ]
     },
     "execution_count": 20,
     "metadata": {},
     "output_type": "execute_result"
    }
   ],
   "source": [
    "data['occupation'].value_counts()"
   ]
  },
  {
   "cell_type": "code",
   "execution_count": 21,
   "metadata": {},
   "outputs": [
    {
     "data": {
      "text/plain": [
       "occupation\n",
       "Business Manager     0.12\n",
       "Housewife            0.09\n",
       "Manual Worker        0.11\n",
       "Other                0.11\n",
       "Professional         0.12\n",
       "Retired              0.10\n",
       "Secretarial/Admin    0.11\n",
       "Student              0.11\n",
       "Unknown              0.11\n",
       "Name: Revenue Grid, dtype: float64"
      ]
     },
     "execution_count": 21,
     "metadata": {},
     "output_type": "execute_result"
    }
   ],
   "source": [
    "round(data.groupby('occupation')['Revenue Grid'].mean(),2)"
   ]
  },
  {
   "cell_type": "code",
   "execution_count": 22,
   "metadata": {},
   "outputs": [
    {
     "data": {
      "text/html": [
       "<div>\n",
       "<style scoped>\n",
       "    .dataframe tbody tr th:only-of-type {\n",
       "        vertical-align: middle;\n",
       "    }\n",
       "\n",
       "    .dataframe tbody tr th {\n",
       "        vertical-align: top;\n",
       "    }\n",
       "\n",
       "    .dataframe thead th {\n",
       "        text-align: right;\n",
       "    }\n",
       "</style>\n",
       "<table border=\"1\" class=\"dataframe\">\n",
       "  <thead>\n",
       "    <tr style=\"text-align: right;\">\n",
       "      <th></th>\n",
       "      <th>Housewife</th>\n",
       "      <th>occ_11</th>\n",
       "      <th>occ_12</th>\n",
       "      <th>occ_9</th>\n",
       "    </tr>\n",
       "  </thead>\n",
       "  <tbody>\n",
       "    <tr>\n",
       "      <td>0</td>\n",
       "      <td>0</td>\n",
       "      <td>1</td>\n",
       "      <td>0</td>\n",
       "      <td>0</td>\n",
       "    </tr>\n",
       "    <tr>\n",
       "      <td>1</td>\n",
       "      <td>0</td>\n",
       "      <td>0</td>\n",
       "      <td>0</td>\n",
       "      <td>1</td>\n",
       "    </tr>\n",
       "    <tr>\n",
       "      <td>2</td>\n",
       "      <td>0</td>\n",
       "      <td>0</td>\n",
       "      <td>1</td>\n",
       "      <td>0</td>\n",
       "    </tr>\n",
       "    <tr>\n",
       "      <td>3</td>\n",
       "      <td>0</td>\n",
       "      <td>0</td>\n",
       "      <td>1</td>\n",
       "      <td>0</td>\n",
       "    </tr>\n",
       "    <tr>\n",
       "      <td>4</td>\n",
       "      <td>0</td>\n",
       "      <td>0</td>\n",
       "      <td>1</td>\n",
       "      <td>0</td>\n",
       "    </tr>\n",
       "    <tr>\n",
       "      <td>...</td>\n",
       "      <td>...</td>\n",
       "      <td>...</td>\n",
       "      <td>...</td>\n",
       "      <td>...</td>\n",
       "    </tr>\n",
       "    <tr>\n",
       "      <td>10150</td>\n",
       "      <td>0</td>\n",
       "      <td>1</td>\n",
       "      <td>0</td>\n",
       "      <td>0</td>\n",
       "    </tr>\n",
       "    <tr>\n",
       "      <td>10151</td>\n",
       "      <td>0</td>\n",
       "      <td>1</td>\n",
       "      <td>0</td>\n",
       "      <td>0</td>\n",
       "    </tr>\n",
       "    <tr>\n",
       "      <td>10152</td>\n",
       "      <td>1</td>\n",
       "      <td>0</td>\n",
       "      <td>0</td>\n",
       "      <td>0</td>\n",
       "    </tr>\n",
       "    <tr>\n",
       "      <td>10153</td>\n",
       "      <td>0</td>\n",
       "      <td>1</td>\n",
       "      <td>0</td>\n",
       "      <td>0</td>\n",
       "    </tr>\n",
       "    <tr>\n",
       "      <td>10154</td>\n",
       "      <td>0</td>\n",
       "      <td>1</td>\n",
       "      <td>0</td>\n",
       "      <td>0</td>\n",
       "    </tr>\n",
       "  </tbody>\n",
       "</table>\n",
       "<p>10155 rows × 4 columns</p>\n",
       "</div>"
      ],
      "text/plain": [
       "       Housewife  occ_11  occ_12  occ_9\n",
       "0              0       1       0      0\n",
       "1              0       0       0      1\n",
       "2              0       0       1      0\n",
       "3              0       0       1      0\n",
       "4              0       0       1      0\n",
       "...          ...     ...     ...    ...\n",
       "10150          0       1       0      0\n",
       "10151          0       1       0      0\n",
       "10152          1       0       0      0\n",
       "10153          0       1       0      0\n",
       "10154          0       1       0      0\n",
       "\n",
       "[10155 rows x 4 columns]"
      ]
     },
     "execution_count": 22,
     "metadata": {},
     "output_type": "execute_result"
    }
   ],
   "source": [
    "for i in range(len(data)):\n",
    "    if data['occupation'][i] in ['Business Manager','Professional']:\n",
    "        data.loc[i,'occupation'] = 'occ_12'\n",
    "    if data['occupation'][i] in ['Manual Worker','Other','Secretarial/Admin','Student','Unknown']:\n",
    "        data.loc[i,'occupation'] = 'occ_11'\n",
    "    if data['occupation'][i] in ['Retired']:\n",
    "        data.loc[i,'occupation'] = 'occ_9'\n",
    "\n",
    "d = pd.get_dummies(data['occupation'])\n",
    "d"
   ]
  },
  {
   "cell_type": "code",
   "execution_count": 23,
   "metadata": {},
   "outputs": [],
   "source": [
    "data = pd.concat([data,d],axis='columns')"
   ]
  },
  {
   "cell_type": "code",
   "execution_count": 24,
   "metadata": {},
   "outputs": [],
   "source": [
    "data.drop(['Housewife','REF_NO','status'],axis='columns',inplace=True)"
   ]
  },
  {
   "cell_type": "code",
   "execution_count": 25,
   "metadata": {},
   "outputs": [],
   "source": [
    "data.drop('occupation',axis='columns',inplace=True)"
   ]
  },
  {
   "cell_type": "code",
   "execution_count": 26,
   "metadata": {},
   "outputs": [
    {
     "data": {
      "text/plain": [
       "Unknown              2394\n",
       "Professional         2051\n",
       "Retired              1936\n",
       "Manual Worker        1508\n",
       "Business Manager      737\n",
       "Secretarial/Admin     662\n",
       "Housewife             527\n",
       "Other                 324\n",
       "Student                16\n",
       "Name: occupation_partner, dtype: int64"
      ]
     },
     "execution_count": 26,
     "metadata": {},
     "output_type": "execute_result"
    }
   ],
   "source": [
    "data['occupation_partner'].value_counts()"
   ]
  },
  {
   "cell_type": "code",
   "execution_count": 27,
   "metadata": {},
   "outputs": [
    {
     "data": {
      "text/plain": [
       "occupation_partner\n",
       "Business Manager     0.11\n",
       "Housewife            0.11\n",
       "Manual Worker        0.11\n",
       "Other                0.10\n",
       "Professional         0.11\n",
       "Retired              0.10\n",
       "Secretarial/Admin    0.12\n",
       "Student              0.12\n",
       "Unknown              0.10\n",
       "Name: Revenue Grid, dtype: float64"
      ]
     },
     "execution_count": 27,
     "metadata": {},
     "output_type": "execute_result"
    }
   ],
   "source": [
    "round(data.groupby('occupation_partner')['Revenue Grid'].mean(),2)"
   ]
  },
  {
   "cell_type": "code",
   "execution_count": 28,
   "metadata": {},
   "outputs": [
    {
     "data": {
      "text/html": [
       "<div>\n",
       "<style scoped>\n",
       "    .dataframe tbody tr th:only-of-type {\n",
       "        vertical-align: middle;\n",
       "    }\n",
       "\n",
       "    .dataframe tbody tr th {\n",
       "        vertical-align: top;\n",
       "    }\n",
       "\n",
       "    .dataframe thead th {\n",
       "        text-align: right;\n",
       "    }\n",
       "</style>\n",
       "<table border=\"1\" class=\"dataframe\">\n",
       "  <thead>\n",
       "    <tr style=\"text-align: right;\">\n",
       "      <th></th>\n",
       "      <th>Other</th>\n",
       "      <th>Retired</th>\n",
       "      <th>Unknown</th>\n",
       "      <th>ooc_ptr_11</th>\n",
       "      <th>ooc_ptr_12</th>\n",
       "    </tr>\n",
       "  </thead>\n",
       "  <tbody>\n",
       "    <tr>\n",
       "      <td>0</td>\n",
       "      <td>0</td>\n",
       "      <td>0</td>\n",
       "      <td>0</td>\n",
       "      <td>0</td>\n",
       "      <td>1</td>\n",
       "    </tr>\n",
       "    <tr>\n",
       "      <td>1</td>\n",
       "      <td>0</td>\n",
       "      <td>1</td>\n",
       "      <td>0</td>\n",
       "      <td>0</td>\n",
       "      <td>0</td>\n",
       "    </tr>\n",
       "    <tr>\n",
       "      <td>2</td>\n",
       "      <td>1</td>\n",
       "      <td>0</td>\n",
       "      <td>0</td>\n",
       "      <td>0</td>\n",
       "      <td>0</td>\n",
       "    </tr>\n",
       "    <tr>\n",
       "      <td>3</td>\n",
       "      <td>0</td>\n",
       "      <td>0</td>\n",
       "      <td>0</td>\n",
       "      <td>1</td>\n",
       "      <td>0</td>\n",
       "    </tr>\n",
       "    <tr>\n",
       "      <td>4</td>\n",
       "      <td>0</td>\n",
       "      <td>0</td>\n",
       "      <td>1</td>\n",
       "      <td>0</td>\n",
       "      <td>0</td>\n",
       "    </tr>\n",
       "    <tr>\n",
       "      <td>...</td>\n",
       "      <td>...</td>\n",
       "      <td>...</td>\n",
       "      <td>...</td>\n",
       "      <td>...</td>\n",
       "      <td>...</td>\n",
       "    </tr>\n",
       "    <tr>\n",
       "      <td>10150</td>\n",
       "      <td>0</td>\n",
       "      <td>0</td>\n",
       "      <td>0</td>\n",
       "      <td>1</td>\n",
       "      <td>0</td>\n",
       "    </tr>\n",
       "    <tr>\n",
       "      <td>10151</td>\n",
       "      <td>0</td>\n",
       "      <td>0</td>\n",
       "      <td>0</td>\n",
       "      <td>1</td>\n",
       "      <td>0</td>\n",
       "    </tr>\n",
       "    <tr>\n",
       "      <td>10152</td>\n",
       "      <td>0</td>\n",
       "      <td>0</td>\n",
       "      <td>0</td>\n",
       "      <td>1</td>\n",
       "      <td>0</td>\n",
       "    </tr>\n",
       "    <tr>\n",
       "      <td>10153</td>\n",
       "      <td>0</td>\n",
       "      <td>0</td>\n",
       "      <td>0</td>\n",
       "      <td>1</td>\n",
       "      <td>0</td>\n",
       "    </tr>\n",
       "    <tr>\n",
       "      <td>10154</td>\n",
       "      <td>0</td>\n",
       "      <td>0</td>\n",
       "      <td>0</td>\n",
       "      <td>1</td>\n",
       "      <td>0</td>\n",
       "    </tr>\n",
       "  </tbody>\n",
       "</table>\n",
       "<p>10155 rows × 5 columns</p>\n",
       "</div>"
      ],
      "text/plain": [
       "       Other  Retired  Unknown  ooc_ptr_11  ooc_ptr_12\n",
       "0          0        0        0           0           1\n",
       "1          0        1        0           0           0\n",
       "2          1        0        0           0           0\n",
       "3          0        0        0           1           0\n",
       "4          0        0        1           0           0\n",
       "...      ...      ...      ...         ...         ...\n",
       "10150      0        0        0           1           0\n",
       "10151      0        0        0           1           0\n",
       "10152      0        0        0           1           0\n",
       "10153      0        0        0           1           0\n",
       "10154      0        0        0           1           0\n",
       "\n",
       "[10155 rows x 5 columns]"
      ]
     },
     "execution_count": 28,
     "metadata": {},
     "output_type": "execute_result"
    }
   ],
   "source": [
    "for i in range(len(data)):\n",
    "    if data['occupation_partner'][i] in ['Business Manager','Housewife','Manual Worker','Professional']:\n",
    "        data.loc[i,'occupation_partner'] = 'ooc_ptr_11'\n",
    "    if data.loc[i,'occupation_partner'] in ['Secretarial/Admin','Student']:\n",
    "        data.loc[i,'occupation_partner'] = 'ooc_ptr_12'\n",
    "d = pd.get_dummies(data['occupation_partner'])\n",
    "d"
   ]
  },
  {
   "cell_type": "code",
   "execution_count": 29,
   "metadata": {},
   "outputs": [],
   "source": [
    "data = pd.concat((data,d),axis=1)"
   ]
  },
  {
   "cell_type": "code",
   "execution_count": 30,
   "metadata": {},
   "outputs": [],
   "source": [
    "data.drop(['Other','Retired','Unknown','occupation_partner'],axis=1,inplace=True)"
   ]
  },
  {
   "cell_type": "markdown",
   "metadata": {},
   "source": [
    "Converting self_employed,self_employed_partner  to numeric"
   ]
  },
  {
   "cell_type": "code",
   "execution_count": 31,
   "metadata": {},
   "outputs": [],
   "source": [
    "data['self_employed'] = np.where(data['self_employed'] == 'Yes',1,0)\n",
    "data['self_employed_partner'] = np.where(data['self_employed_partner'] == 'Yes',1,0)"
   ]
  },
  {
   "cell_type": "markdown",
   "metadata": {},
   "source": [
    "Now lets look into home_status"
   ]
  },
  {
   "cell_type": "code",
   "execution_count": 32,
   "metadata": {},
   "outputs": [
    {
     "data": {
      "text/plain": [
       "Own Home                9413\n",
       "Rent from Council/HA     322\n",
       "Rent Privately           261\n",
       "Live in Parental Hom     109\n",
       "Unclassified              50\n",
       "Name: home_status, dtype: int64"
      ]
     },
     "execution_count": 32,
     "metadata": {},
     "output_type": "execute_result"
    }
   ],
   "source": [
    "data['home_status'].value_counts()"
   ]
  },
  {
   "cell_type": "markdown",
   "metadata": {},
   "source": [
    "Own home are widly spread so we can drop the rest of the categoru and make own home as 1"
   ]
  },
  {
   "cell_type": "code",
   "execution_count": 33,
   "metadata": {},
   "outputs": [],
   "source": [
    "data['home_status'] = np.where(data['home_status'] =='Own Home',1,0)"
   ]
  },
  {
   "cell_type": "code",
   "execution_count": 34,
   "metadata": {},
   "outputs": [
    {
     "data": {
      "text/plain": [
       "Central          1618\n",
       "Carlton          1541\n",
       "Meridian         1226\n",
       "Yorkshire        1042\n",
       "Granada          1039\n",
       "HTV               845\n",
       "Anglia            751\n",
       "Tyne Tees         536\n",
       "Scottish TV       520\n",
       "TV South West     363\n",
       "Grampian          227\n",
       "Unknown           189\n",
       "Ulster            159\n",
       "Border             99\n",
       "Name: TVarea, dtype: int64"
      ]
     },
     "execution_count": 34,
     "metadata": {},
     "output_type": "execute_result"
    }
   ],
   "source": [
    "data['TVarea'].value_counts()"
   ]
  },
  {
   "cell_type": "code",
   "execution_count": 35,
   "metadata": {},
   "outputs": [
    {
     "data": {
      "text/plain": [
       "2039"
      ]
     },
     "execution_count": 35,
     "metadata": {},
     "output_type": "execute_result"
    }
   ],
   "source": [
    "data['post_area'].nunique()"
   ]
  },
  {
   "cell_type": "code",
   "execution_count": 36,
   "metadata": {},
   "outputs": [
    {
     "data": {
      "text/plain": [
       "10040"
      ]
     },
     "execution_count": 36,
     "metadata": {},
     "output_type": "execute_result"
    }
   ],
   "source": [
    "data['post_code'].nunique()"
   ]
  },
  {
   "cell_type": "code",
   "execution_count": 37,
   "metadata": {},
   "outputs": [
    {
     "data": {
      "text/plain": [
       "South East          2100\n",
       "North West          1896\n",
       "Unknown             1080\n",
       "South West           971\n",
       "West Midlands        820\n",
       "Scotland             787\n",
       "East Midlands        771\n",
       "North                571\n",
       "Wales                556\n",
       "East Anglia          423\n",
       "Northern Ireland     159\n",
       "Isle of Man           16\n",
       "Channel Islands        5\n",
       "Name: region, dtype: int64"
      ]
     },
     "execution_count": 37,
     "metadata": {},
     "output_type": "execute_result"
    }
   ],
   "source": [
    "data['region'].value_counts()"
   ]
  },
  {
   "cell_type": "markdown",
   "metadata": {},
   "source": [
    "dropping TVarea, postcode,postarea,region. if model is not well performing we'll generate dummies for TVarea and region"
   ]
  },
  {
   "cell_type": "code",
   "execution_count": 38,
   "metadata": {},
   "outputs": [],
   "source": [
    "data.drop(['post_area','post_code','region','TVarea'],axis='columns',inplace=True)"
   ]
  },
  {
   "cell_type": "markdown",
   "metadata": {},
   "source": [
    "Now lets see gender variable"
   ]
  },
  {
   "cell_type": "code",
   "execution_count": 39,
   "metadata": {},
   "outputs": [
    {
     "data": {
      "text/plain": [
       "Female     7634\n",
       "Male       2486\n",
       "Unknown      35\n",
       "Name: gender, dtype: int64"
      ]
     },
     "execution_count": 39,
     "metadata": {},
     "output_type": "execute_result"
    }
   ],
   "source": [
    "data['gender'].value_counts()"
   ]
  },
  {
   "cell_type": "code",
   "execution_count": 40,
   "metadata": {},
   "outputs": [],
   "source": [
    "data['gender'] = np.where(data['gender'] == 'Female',0,1)"
   ]
  },
  {
   "cell_type": "markdown",
   "metadata": {},
   "source": [
    "Now we left out with family income feature."
   ]
  },
  {
   "cell_type": "code",
   "execution_count": 41,
   "metadata": {},
   "outputs": [
    {
     "data": {
      "text/plain": [
       ">=35,000             2517\n",
       "<27,500, >=25,000    1227\n",
       "<30,000, >=27,500     994\n",
       "<25,000, >=22,500     833\n",
       "<20,000, >=17,500     683\n",
       "<12,500, >=10,000     677\n",
       "<17,500, >=15,000     634\n",
       "<15,000, >=12,500     629\n",
       "<22,500, >=20,000     590\n",
       "<10,000, >= 8,000     563\n",
       "< 8,000, >= 4,000     402\n",
       "< 4,000               278\n",
       "Unknown               128\n",
       "Name: family_income, dtype: int64"
      ]
     },
     "execution_count": 41,
     "metadata": {},
     "output_type": "execute_result"
    }
   ],
   "source": [
    "data['family_income'].value_counts()"
   ]
  },
  {
   "cell_type": "code",
   "execution_count": 42,
   "metadata": {},
   "outputs": [],
   "source": [
    "data[\"fi\"]=4 # by doing this , we have essentially clubbed <4000 and Unknown values . How?\n",
    "data.loc[data[\"family_income\"]==\"< 8,000, >= 4,000\",\"fi\"]=6\n",
    "data.loc[data[\"family_income\"]==\"<10,000, >= 8,000\",\"fi\"]=9\n",
    "data.loc[data[\"family_income\"]==\"<12,500, >=10,000\",\"fi\"]=11.25\n",
    "data.loc[data[\"family_income\"]==\"<15,000, >=12,500\",\"fi\"]=13.75\n",
    "data.loc[data[\"family_income\"]==\"<17,500, >=15,000\",\"fi\"]=16.25\n",
    "data.loc[data[\"family_income\"]==\"<20,000, >=17,500\",\"fi\"]=18.75\n",
    "data.loc[data[\"family_income\"]==\"<22,500, >=20,000\",\"fi\"]=21.25\n",
    "data.loc[data[\"family_income\"]==\"<25,000, >=22,500\",\"fi\"]=23.75\n",
    "data.loc[data[\"family_income\"]==\"<27,500, >=25,000\",\"fi\"]=26.25\n",
    "data.loc[data[\"family_income\"]==\"<30,000, >=27,500\",\"fi\"]=28.75\n",
    "data.loc[data[\"family_income\"]==\">=35,000\",\"fi\"]=35\n",
    "data=data.drop([\"family_income\"],axis=1)"
   ]
  },
  {
   "cell_type": "code",
   "execution_count": 43,
   "metadata": {},
   "outputs": [
    {
     "name": "stdout",
     "output_type": "stream",
     "text": [
      "<class 'pandas.core.frame.DataFrame'>\n",
      "RangeIndex: 10155 entries, 0 to 10154\n",
      "Data columns (total 36 columns):\n",
      "children                           10155 non-null int64\n",
      "home_status                        10155 non-null int64\n",
      "self_employed                      10155 non-null int64\n",
      "self_employed_partner              10155 non-null int64\n",
      "year_last_moved                    10155 non-null int64\n",
      "Average Credit Card Transaction    10155 non-null float64\n",
      "Balance Transfer                   10155 non-null float64\n",
      "Term Deposit                       10155 non-null float64\n",
      "Life Insurance                     10155 non-null float64\n",
      "Medical Insurance                  10155 non-null float64\n",
      "Average A/C Balance                10155 non-null float64\n",
      "Personal Loan                      10155 non-null float64\n",
      "Investment in Mutual Fund          10155 non-null float64\n",
      "Investment Tax Saving Bond         10155 non-null float64\n",
      "Home Loan                          10155 non-null float64\n",
      "Online Purchase Amount             10155 non-null float64\n",
      "Revenue Grid                       10155 non-null int64\n",
      "gender                             10155 non-null int64\n",
      "Investment in Commudity            10155 non-null float64\n",
      "Investment in Equity               10155 non-null float64\n",
      "Investment in Derivative           10155 non-null float64\n",
      "Portfolio Balance                  10155 non-null float64\n",
      "ab_10                              10155 non-null uint8\n",
      "ab_11                              10155 non-null uint8\n",
      "ab_13                              10155 non-null uint8\n",
      "ab_17                              10155 non-null uint8\n",
      "ab_9                               10155 non-null uint8\n",
      "status_partner                     10155 non-null int64\n",
      "statuss_S/NM                       10155 non-null int64\n",
      "status_div                         10155 non-null int64\n",
      "occ_11                             10155 non-null uint8\n",
      "occ_12                             10155 non-null uint8\n",
      "occ_9                              10155 non-null uint8\n",
      "ooc_ptr_11                         10155 non-null uint8\n",
      "ooc_ptr_12                         10155 non-null uint8\n",
      "fi                                 10155 non-null float64\n",
      "dtypes: float64(16), int64(10), uint8(10)\n",
      "memory usage: 2.1 MB\n"
     ]
    }
   ],
   "source": [
    "data.info()"
   ]
  },
  {
   "cell_type": "code",
   "execution_count": 44,
   "metadata": {},
   "outputs": [],
   "source": [
    "data.dropna(inplace=True)"
   ]
  },
  {
   "cell_type": "markdown",
   "metadata": {},
   "source": [
    "## Splitting the data into train and test"
   ]
  },
  {
   "cell_type": "code",
   "execution_count": 45,
   "metadata": {},
   "outputs": [],
   "source": [
    "from sklearn.model_selection import train_test_split"
   ]
  },
  {
   "cell_type": "code",
   "execution_count": 46,
   "metadata": {},
   "outputs": [],
   "source": [
    "train,test = train_test_split(data,test_size=0.2,random_state=4)"
   ]
  },
  {
   "cell_type": "code",
   "execution_count": 47,
   "metadata": {},
   "outputs": [],
   "source": [
    "x_train = train.drop('Revenue Grid',axis=1)\n",
    "y_train = train['Revenue Grid']\n",
    "\n",
    "x_test = test.drop('Revenue Grid',axis=1)\n",
    "y_test = test['Revenue Grid']"
   ]
  },
  {
   "cell_type": "markdown",
   "metadata": {},
   "source": [
    "### Performance metrics for Classification model"
   ]
  },
  {
   "cell_type": "code",
   "execution_count": 48,
   "metadata": {},
   "outputs": [],
   "source": [
    "class Classification_Performance:\n",
    "    '''Logistic_Performance(actual=<true values>,predicted=<model outcomes>)\n",
    "        method -> accuracy() \n",
    "                    return accuracy of logistic model\n",
    "        method -> confusion_matrix()\n",
    "                    return TN,FP,FN,TP\n",
    "        method -> precision_recall\n",
    "                    return precision and recall of the model\n",
    "        method -> ks_score()\n",
    "        \n",
    "        method -> f1_score()\n",
    "        \n",
    "        method -> fBeta_score()\n",
    "        \n",
    "        method -> roc_auc()\n",
    "                    '''\n",
    "    def __init__(self,actual,predicted):\n",
    "        self.actual = actual\n",
    "        self.predicted = predicted\n",
    "    \n",
    "    def accuracy(self):\n",
    "        self.acc = metrics.accuracy_score(self.actual,self.predicted)\n",
    "        print('Accuracy : ',self.acc)\n",
    "        \n",
    "    def confusion_matrix(self):\n",
    "        cm = metrics.confusion_matrix(self.actual,self.predicted,)\n",
    "        self.TN,self.FP,self.FN,self.TP = cm.ravel()\n",
    "        print('True Negative : ',self.TN)\n",
    "        print('False Positive : ',self.FP)\n",
    "        print('False Negative : ',self.FN)\n",
    "        print('True Positive : ',self.TP)\n",
    "        \n",
    "    def precision_recall(self):\n",
    "        self.precision = self.TP/(self.TP + self.FP)\n",
    "        self.recall = self.TP/(self.TP + self.FN)\n",
    "        \n",
    "        print(\"Precision : \",self.precision)\n",
    "        print(\"Recall : \",self.recall)\n",
    "        \n",
    "        \n",
    "    def ks_score(self):\n",
    "        self.KS_score = self.recall - self.FP/(self.FP + self.TN)\n",
    "        print(\"KS_score : \",self.KS_score)\n",
    "        \n",
    "    def f1_score(self):\n",
    "        self.f1 = metrics.f1_score(self.actual,self.predicted)\n",
    "        print(\"F1 Score : \",self.f1)\n",
    "        \n",
    "    def fBeta_score(self,Beta):\n",
    "        \"\"\"\n",
    "        The `beta` parameter determines the weight of recall in the combined\n",
    "score. ``beta < 1`` lends more weight to precision, while ``beta > 1``\n",
    "favors recall (``beta -> 0`` considers only precision, ``beta -> inf``\n",
    "only recall).\n",
    "        \"\"\"\n",
    "        self.fBeta = metrics.fbeta_score(self.actual,self.predicted,beta=Beta)\n",
    "        print(\"F Beta Score when Beta = \",Beta,\"is = \",self.fBeta)\n",
    "        \n",
    "    def roc_auc(self):\n",
    "        self.auc_roc = metrics.roc_auc_score(self.actual,self.predicted)\n",
    "        print(\"Area under the curve = \",self.auc_roc)\n",
    "        \n",
    "    def log_loss(self,predicted_proba):\n",
    "        self.logLoss = metrics.log_loss(self.actual,predicted_proba)\n",
    "        print(\"My model is lacking the confidence of \",round(self.logLoss*100,2), \"%\")\n",
    "        \n",
    "    def check_all(self):\n",
    "        self.accuracy()\n",
    "        self.confusion_matrix()\n",
    "        self.precision_recall()\n",
    "        self.ks_score()\n",
    "        self.f1_score()\n",
    "        self.roc_auc()"
   ]
  },
  {
   "cell_type": "markdown",
   "metadata": {},
   "source": [
    "# XGBoost"
   ]
  },
  {
   "cell_type": "code",
   "execution_count": 49,
   "metadata": {},
   "outputs": [],
   "source": [
    "from sklearn.model_selection import RandomizedSearchCV\n",
    "from xgboost import XGBClassifier"
   ]
  },
  {
   "cell_type": "code",
   "execution_count": 50,
   "metadata": {},
   "outputs": [],
   "source": [
    "cl = XGBClassifier(n_jobs=-1,random_state=2)"
   ]
  },
  {
   "cell_type": "code",
   "execution_count": 51,
   "metadata": {},
   "outputs": [],
   "source": [
    "params = {\n",
    "'max_depth' : [2,3,4,5,6,7,8,9,10,11],\n",
    "'learning_rate' : [0.01,0.05,0.09,0.1,0.15,0.2,0.25],\n",
    "'n_estimators' : [100,200,300,400,500,600,700,800,900,1000,1200],\n",
    "'subsample' : [0.5,0.7,0.8,0.9,1.0],\n",
    "'colsample_bytree' : [0.5,0.6,0.7,0.8,0.9,1.0]\n",
    "}"
   ]
  },
  {
   "cell_type": "code",
   "execution_count": 52,
   "metadata": {},
   "outputs": [],
   "source": [
    "iterations = 1000\n",
    "random_cl = RandomizedSearchCV(cl,param_distributions=params,n_jobs=-1,n_iter=iterations,\n",
    "                              cv=3,scoring='roc_auc',random_state=2)"
   ]
  },
  {
   "cell_type": "code",
   "execution_count": 53,
   "metadata": {},
   "outputs": [
    {
     "data": {
      "text/plain": [
       "RandomizedSearchCV(cv=3, error_score='raise-deprecating',\n",
       "                   estimator=XGBClassifier(base_score=0.5, booster='gbtree',\n",
       "                                           colsample_bylevel=1,\n",
       "                                           colsample_bynode=1,\n",
       "                                           colsample_bytree=1, gamma=0,\n",
       "                                           learning_rate=0.1, max_delta_step=0,\n",
       "                                           max_depth=3, min_child_weight=1,\n",
       "                                           missing=None, n_estimators=100,\n",
       "                                           n_jobs=-1, nthread=None,\n",
       "                                           objective='binary:logistic',\n",
       "                                           random_state=2, reg_alpha=...\n",
       "                   param_distributions={'colsample_bytree': [0.5, 0.6, 0.7, 0.8,\n",
       "                                                             0.9, 1.0],\n",
       "                                        'learning_rate': [0.01, 0.05, 0.09, 0.1,\n",
       "                                                          0.15, 0.2, 0.25],\n",
       "                                        'max_depth': [2, 3, 4, 5, 6, 7, 8, 9,\n",
       "                                                      10, 11],\n",
       "                                        'n_estimators': [100, 200, 300, 400,\n",
       "                                                         500, 600, 700, 800,\n",
       "                                                         900, 1000, 1200],\n",
       "                                        'subsample': [0.5, 0.7, 0.8, 0.9, 1.0]},\n",
       "                   pre_dispatch='2*n_jobs', random_state=2, refit=True,\n",
       "                   return_train_score=False, scoring='roc_auc', verbose=0)"
      ]
     },
     "execution_count": 53,
     "metadata": {},
     "output_type": "execute_result"
    }
   ],
   "source": [
    "random_cl.fit(x_train,y_train)"
   ]
  },
  {
   "cell_type": "code",
   "execution_count": 60,
   "metadata": {},
   "outputs": [
    {
     "data": {
      "text/plain": [
       "0.9907408334537278"
      ]
     },
     "execution_count": 60,
     "metadata": {},
     "output_type": "execute_result"
    }
   ],
   "source": [
    "random_cl.best_score_"
   ]
  },
  {
   "cell_type": "code",
   "execution_count": 61,
   "metadata": {},
   "outputs": [
    {
     "data": {
      "text/plain": [
       "{'subsample': 0.8,\n",
       " 'n_estimators': 800,\n",
       " 'max_depth': 6,\n",
       " 'learning_rate': 0.05,\n",
       " 'colsample_bytree': 1.0}"
      ]
     },
     "execution_count": 61,
     "metadata": {},
     "output_type": "execute_result"
    }
   ],
   "source": [
    "random_cl.best_params_"
   ]
  },
  {
   "cell_type": "code",
   "execution_count": 62,
   "metadata": {},
   "outputs": [
    {
     "data": {
      "text/plain": [
       "XGBClassifier(base_score=0.5, booster='gbtree', colsample_bylevel=1,\n",
       "              colsample_bynode=1, colsample_bytree=1.0, gamma=0,\n",
       "              learning_rate=0.05, max_delta_step=0, max_depth=6,\n",
       "              min_child_weight=1, missing=None, n_estimators=800, n_jobs=-1,\n",
       "              nthread=None, objective='binary:logistic', random_state=2,\n",
       "              reg_alpha=0, reg_lambda=1, scale_pos_weight=1, seed=None,\n",
       "              silent=None, subsample=0.8, verbosity=1)"
      ]
     },
     "execution_count": 62,
     "metadata": {},
     "output_type": "execute_result"
    }
   ],
   "source": [
    "random_cl.best_estimator_"
   ]
  },
  {
   "cell_type": "code",
   "execution_count": 63,
   "metadata": {},
   "outputs": [],
   "source": [
    "my_cl = random_cl.best_estimator_"
   ]
  },
  {
   "cell_type": "code",
   "execution_count": 64,
   "metadata": {},
   "outputs": [
    {
     "data": {
      "text/plain": [
       "XGBClassifier(base_score=0.5, booster='gbtree', colsample_bylevel=1,\n",
       "              colsample_bynode=1, colsample_bytree=1.0, gamma=0,\n",
       "              learning_rate=0.05, max_delta_step=0, max_depth=6,\n",
       "              min_child_weight=1, missing=None, n_estimators=800, n_jobs=-1,\n",
       "              nthread=None, objective='binary:logistic', random_state=2,\n",
       "              reg_alpha=0, reg_lambda=1, scale_pos_weight=1, seed=None,\n",
       "              silent=None, subsample=0.8, verbosity=1)"
      ]
     },
     "execution_count": 64,
     "metadata": {},
     "output_type": "execute_result"
    }
   ],
   "source": [
    "my_cl.fit(x_train,y_train)"
   ]
  },
  {
   "cell_type": "code",
   "execution_count": 65,
   "metadata": {},
   "outputs": [
    {
     "name": "stdout",
     "output_type": "stream",
     "text": [
      "Accuracy :  0.9748892171344166\n",
      "True Negative :  1798\n",
      "False Positive :  14\n",
      "False Negative :  37\n",
      "True Positive :  182\n",
      "Precision :  0.9285714285714286\n",
      "Recall :  0.8310502283105022\n",
      "KS_score :  0.8233239589948289\n",
      "F1 Score :  0.8771084337349399\n",
      "Area under the curve =  0.9116619794974145\n",
      "My model is lacking the confidence of  6.46 %\n"
     ]
    }
   ],
   "source": [
    "pred_inClass = my_cl.predict(x_test)\n",
    "pred_proba = my_cl.predict_proba(x_test)\n",
    "performance = Classification_Performance(y_test,pred_inClass)\n",
    "performance.check_all()\n",
    "performance.log_loss(pred_proba)"
   ]
  },
  {
   "cell_type": "markdown",
   "metadata": {},
   "source": [
    "## Over all conclusion\n",
    "\n",
    "**Logistic Regression**\n",
    "\n",
    "Accuracy : 0.914327917282127\n",
    "\n",
    "Area under the curve = 0.9018075841422479\n",
    "\n",
    "F1 Score : 0.6903914590747331\n",
    "\n",
    "My model is lacking the confidence of 25.86 %\n",
    "\n",
    "**Decision Tree with out CV and Max_depth = 7**\n",
    "\n",
    "Accuracy : 0.9290989660265879\n",
    "\n",
    "Area under the curve = 0.9040642293386555\n",
    "\n",
    "F1 Score : 0.726235741444867 (Improved)\n",
    "\n",
    "My model is lacking the confidence of 32.55 % \n",
    "\n",
    "**Decision Tree with Hyper parameter-Max_Depth tuning and withourt CV**\n",
    "\n",
    "Accuracy :  0.9384539635647464\n",
    "\n",
    "Area under the curve =  0.9193428891106474\n",
    "\n",
    "F1 Score :  0.758220502901354\n",
    "\n",
    "My model is lacking the confidence of  48.54 %\n",
    "\n",
    "**Decision Tree with CV and Hyper parameter-Max_Depth Tuning**\n",
    "\n",
    "Accuracy :  0.9015263417035942\n",
    "\n",
    "F1 Score :  0.6721311475409837\n",
    "\n",
    "***Area under the curve =  0.9167120263691071***\n",
    "\n",
    "*My model is lacking the confidence of  29.22 %*\n",
    "\n",
    "**Random forest with only ntrees and max depth**\n",
    "\n",
    "Accuracy :  0.9650418513047759\n",
    "\n",
    "F1 Score :  0.8220551378446115\n",
    "\n",
    "Area under the curve =  0.8700142127067646\n",
    "\n",
    "My model is lacking the confidence of  8.35 %\n",
    "\n",
    "**Random forest with few parameters hyper tuning 200 iterations**\n",
    "\n",
    "Accuracy :  0.965534219596258\n",
    "\n",
    "F1 Score :  0.825\n",
    "\n",
    "Area under the curve =  0.8722973177295956\n",
    "\n",
    "My model is lacking the confidence of  8.35 %\n",
    "\n",
    "**Extra Trees with only ntrees and max depth**\n",
    "\n",
    "Accuracy :  0.96602658788774\n",
    "\n",
    "F1 Score :  0.823529411764706\n",
    "\n",
    "Area under the curve =  0.8645445885874989\n",
    "\n",
    "My model is lacking the confidence of  8.89 %\n",
    "\n",
    "**Extra Trees with few parameters hyper tuning 200 iterations**\n",
    "\n",
    "Accuracy :  0.9630723781388478\n",
    "\n",
    "F1 Score :  0.8329621380846325\n",
    "\n",
    "Area under the curve =  0.9150752971060511\n",
    "\n",
    "My model is lacking the confidence of  11.99 %\n",
    "\n",
    "**Gradient Boosting**\n",
    "\n",
    "Accuracy :  0.9724273756770064\n",
    "\n",
    "F1 Score :  0.8653846153846154\n",
    "\n",
    "Area under the curve =  0.906267954882216\n",
    "\n",
    "My model is lacking the confidence of  95.23 %\n",
    "\n",
    "**XGBoost**\n",
    "\n",
    "Accuracy :  0.9748892171344166\n",
    " \n",
    "F1 Score :  0.8771084337349399\n",
    "\n",
    "Area under the curve =  0.9116619794974145\n",
    "\n",
    "My model is lacking the confidence of  6.46 %"
   ]
  }
 ],
 "metadata": {
  "kernelspec": {
   "display_name": "Python 3.7.4 64-bit ('base': conda)",
   "language": "python",
   "name": "python37464bitbaseconda62b3755346994f7ea430301e4cdaf1ba"
  },
  "language_info": {
   "codemirror_mode": {
    "name": "ipython",
    "version": 3
   },
   "file_extension": ".py",
   "mimetype": "text/x-python",
   "name": "python",
   "nbconvert_exporter": "python",
   "pygments_lexer": "ipython3",
   "version": "3.7.4"
  },
  "varInspector": {
   "cols": {
    "lenName": 16,
    "lenType": 16,
    "lenVar": 40
   },
   "kernels_config": {
    "python": {
     "delete_cmd_postfix": "",
     "delete_cmd_prefix": "del ",
     "library": "var_list.py",
     "varRefreshCmd": "print(var_dic_list())"
    },
    "r": {
     "delete_cmd_postfix": ") ",
     "delete_cmd_prefix": "rm(",
     "library": "var_list.r",
     "varRefreshCmd": "cat(var_dic_list()) "
    }
   },
   "oldHeight": 356.45000000000005,
   "position": {
    "height": "377.85px",
    "left": "705.2px",
    "right": "20px",
    "top": "119px",
    "width": "350px"
   },
   "types_to_exclude": [
    "module",
    "function",
    "builtin_function_or_method",
    "instance",
    "_Feature"
   ],
   "varInspector_section_display": "block",
   "window_display": false
  }
 },
 "nbformat": 4,
 "nbformat_minor": 2
}
